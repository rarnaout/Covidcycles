{
 "cells": [
  {
   "cell_type": "code",
   "execution_count": 1,
   "id": "bee76e59",
   "metadata": {
    "execution": {
     "iopub.execute_input": "2022-03-07T13:02:39.043451Z",
     "iopub.status.busy": "2022-03-07T13:02:39.042071Z",
     "iopub.status.idle": "2022-03-07T13:02:39.051629Z",
     "shell.execute_reply": "2022-03-07T13:02:39.050386Z"
    }
   },
   "outputs": [
    {
     "name": "stdout",
     "output_type": "stream",
     "text": [
      "Last updated: 2022-03-09 08:24 AM\n"
     ]
    }
   ],
   "source": [
    "from datetime import datetime\n",
    "print(f\"Last updated: {datetime.now().strftime('%Y-%m-%d %I:%M %p')}\")"
   ]
  },
  {
   "cell_type": "markdown",
   "id": "46fa262d",
   "metadata": {},
   "source": [
    "# Visualizing Omicron: COVID-19 Deaths vs. Cases\n",
    "\n",
    "Scroll down for plots for:\n",
    "- **Africa and the Middle East:** Iran - Israel - South Africa - Tunisia\n",
    "- **The Americas:** Brazil - Cuba - Canada - Mexico - United States\n",
    "- **Europe:** Denmark - Germany - Finland - France - Ireland - Italy - Russia - Sweden - United Kingdom\n",
    "- **South Asia:** India - Pakistan\n",
    "- **ANZAC:** Australia - New Zealand\n",
    "- **The World**\n",
    "\n",
    "**Quality of reporting varies by country;** focus on shape rather than absolute numbers.\n",
    "\n",
    "See https://github.com/rarnaout/Covidcycles for details and <a href=\"https://www.researchsquare.com/article/rs-1257935/v1\">this preprint</a> for more discussion.\n",
    "\n",
    "**Citation:** Arnaout, R and Arnaout, R. Visualizing Omicron: COVID-19 Deaths vs. Cases Over Time. PLoS One. In press.\n",
    "\n",
    "The preprint version is available at Research Square \n",
    "https://doi.org/10.21203/rs.3.rs-1257935/v1\n",
    "\n",
    "Ramy Arnaout, MD, DPhil / Boston, MA / rarnaout@bidmc.harvard.edu"
   ]
  },
  {
   "cell_type": "code",
   "execution_count": null,
   "id": "34d0398d",
   "metadata": {
    "execution": {
     "iopub.execute_input": "2022-03-07T13:02:39.066764Z",
     "iopub.status.busy": "2022-03-07T13:02:39.065964Z",
     "iopub.status.idle": "2022-03-07T13:02:39.967235Z",
     "shell.execute_reply": "2022-03-07T13:02:39.967770Z"
    }
   },
   "outputs": [],
   "source": [
    "# %matplotlib notebook\n",
    "\n",
    "import warnings\n",
    "warnings.filterwarnings(\"ignore\")  # lzma\n",
    "\n",
    "from colour import Color\n",
    "from matplotlib import pyplot as plt\n",
    "from scipy.signal import find_peaks\n",
    "import matplotlib as mpl\n",
    "import numpy as np\n",
    "import pandas as pd"
   ]
  },
  {
   "cell_type": "code",
   "execution_count": null,
   "id": "600f190c",
   "metadata": {
    "execution": {
     "iopub.execute_input": "2022-03-07T13:02:39.985179Z",
     "iopub.status.busy": "2022-03-07T13:02:39.978756Z",
     "iopub.status.idle": "2022-03-07T13:02:41.431356Z",
     "shell.execute_reply": "2022-03-07T13:02:41.431881Z"
    }
   },
   "outputs": [],
   "source": [
    "# get data (biweekly smooths the weekly peaks and troughs)\n",
    "base_url = \"https://github.com/owid/covid-19-data/raw/master/public/data/jhu/\"\n",
    "cases  = base_url + \"biweekly_cases_per_million.csv\"\n",
    "deaths = base_url + \"biweekly_deaths_per_million.csv\"\n",
    "df_cases  = pd.read_csv(cases)\n",
    "df_deaths = pd.read_csv(deaths)"
   ]
  },
  {
   "cell_type": "code",
   "execution_count": null,
   "id": "14ef8c46",
   "metadata": {
    "execution": {
     "iopub.execute_input": "2022-03-07T13:02:41.485121Z",
     "iopub.status.busy": "2022-03-07T13:02:41.479315Z",
     "iopub.status.idle": "2022-03-07T13:02:41.486949Z",
     "shell.execute_reply": "2022-03-07T13:02:41.487466Z"
    }
   },
   "outputs": [],
   "source": [
    "def plot_deaths_vs_cases(country=\"United States\",\n",
    "                         variants=False,\n",
    "                         min_width = 1, max_width = 7,\n",
    "                         width_scaling = 4, alpha_scaling = 0.5, font_scaling = 0.5,\n",
    "                         width_between_peaks = 15,\n",
    "                         last=14, # number of days to plot dots as days\n",
    "                         fontsize=20,\n",
    "                         figsize=(6,6),\n",
    "                         xmax=False,\n",
    "                         get_data=False, labels=True, time_series=False, save=True, fmt=\"pdf\",\n",
    "                         from_end=10,\n",
    "                         rel_height=0.5,\n",
    "                         ignore_last=0,\n",
    "                         do_not_plot=False,\n",
    "                         show=True,\n",
    "                         dots=True,\n",
    "                         death_max=False,\n",
    "                        ):\n",
    "    # get data (biweekly smooths the weekly peaks and troughs)\n",
    "#     if get_data:\n",
    "#         base_url = \"https://github.com/owid/covid-19-data/raw/master/public/data/jhu/\"\n",
    "#         cases  = base_url + \"biweekly_cases_per_million.csv\"\n",
    "#         deaths = base_url + \"biweekly_deaths_per_million.csv\"\n",
    "#         df_cases  = pd.read_csv(cases)\n",
    "#         df_deaths = pd.read_csv(deaths)\n",
    "    df = pd.DataFrame({\n",
    "        \"dates\": df_cases['date'],\n",
    "        \"cases\": df_cases[country],\n",
    "        \"deaths\": df_deaths[country]\n",
    "         })\n",
    "    df = df.dropna()\n",
    "    cases  = np.array(list(df.cases))\n",
    "    deaths = np.array(list(df.deaths))\n",
    "    dates  = np.array(list(df.dates))\n",
    "    if do_not_plot:\n",
    "        cases = cases[:-do_not_plot]\n",
    "        deaths = deaths[:-do_not_plot]\n",
    "        dates = dates[:-do_not_plot]    \n",
    "    first_date = dates[0]\n",
    "    last_date = dates[-1]\n",
    "    # L = len(df)\n",
    "    L = len(cases)\n",
    "    #    \n",
    "    # get case peaks; will use to color waves(=\"loops\"=\"cycles\")\n",
    "    if max(cases) > 50: prominence = (50, float('inf'))\n",
    "    else:   # special case (China)\n",
    "        prominence = (10, float('inf'))\n",
    "        width_between_peaks = 10\n",
    "    peaks, _ = find_peaks(cases, prominence=prominence, width=width_between_peaks, rel_height=rel_height)\n",
    "    if len(peaks) == 0: peaks = np.append(peaks, L-1-ignore_last)\n",
    "    elif L - peaks[-1] > from_end: peaks = np.append(peaks, L-1-ignore_last)  # if no end peak, make the end the peak\n",
    "    peak_dates = dates[peaks]\n",
    "    #\n",
    "    # get troughs between peaks\n",
    "    troughs, _ = find_peaks(-cases, prominence=(50, float('inf')), width=15) # note minus sign\n",
    "    pairs_of_peaks = zip(peaks, peaks[1:])\n",
    "    new_troughs = [0]\n",
    "    for peak1, peak2 in pairs_of_peaks:\n",
    "        troughs_between_peaks = []\n",
    "        for trough in troughs:\n",
    "            if peak1 < trough < peak2:\n",
    "                troughs_between_peaks.append(trough)\n",
    "        troughs_between_peaks = np.array(troughs_between_peaks)\n",
    "        if len(troughs_between_peaks >= 1):\n",
    "            trough = min(troughs_between_peaks, key=lambda ii: cases[ii])\n",
    "        else: continue\n",
    "        new_troughs.append(trough)\n",
    "    troughs = new_troughs\n",
    "    if L-1 not in peaks: troughs.append(L-1)\n",
    "    troughs = np.array(troughs)\n",
    "    trough_dates = dates[troughs]\n",
    "    #\n",
    "    # set cosmetics\n",
    "    #     colors\n",
    "    ref_colors = [ \"black\", \"black\", \"slategrey\", \"indigo\", \"darkblue\", \"seagreen\", \"orange\", \"red\"]\n",
    "    ref_colors = [Color(i) for i in ref_colors]\n",
    "    last_color = ref_colors.pop()\n",
    "    inter_trough_widths = troughs[1:] - troughs[:-1]\n",
    "    if troughs[-1] != L-1:\n",
    "        inter_trough_widths = np.append(inter_trough_widths, L-troughs[-1])\n",
    "    colors = []\n",
    "    for inter_trough_width, color in zip(inter_trough_widths[::-1], ref_colors[::-1]): # note [::-1]\n",
    "        colors += list(i.hex for i in last_color.range_to(color, inter_trough_width))\n",
    "        last_color = Color(color)\n",
    "    colors = colors[::-1]                                                   # reverses [::-1] above\n",
    "    #     alphas and line widths\n",
    "    alphas = [(i/L)**alpha_scaling for i in range(L)]\n",
    "    widths = [(max_width-min_width)*(i/L)**width_scaling+min_width for i in range(L)]\n",
    "    #\n",
    "    # create figure\n",
    "    plt.ion()\n",
    "    fig_width, fig_height = figsize\n",
    "    _ = plt.figure(figsize=(fig_width+save*1.5,fig_height))   # hack so labels etc. are in the figure\n",
    "    #     line\n",
    "    for i in range(L-1):\n",
    "        plt.plot(cases[i:i+2], deaths[i:i+2], c=colors[i], linewidth=widths[i], alpha=alphas[i], \n",
    "                 solid_capstyle='round', zorder=i)\n",
    "    #     black dots on each day for `last` period\n",
    "        plt.scatter(cases[-last:], deaths[-last:], c=\"black\", alpha=alphas[-last:], s=np.array(widths[-last:])/3,\n",
    "                   zorder=100000)\n",
    "    #     labels\n",
    "    if labels == True:\n",
    "        if not variants: variants = len(peaks)*[\"\",]\n",
    "        for i, variant in zip(peaks, variants):\n",
    "            label = f\"{dates[i][2:]}\"          # formatting for readability\n",
    "            if not variant.startswith(\" \"): label += \"\\n  \"\n",
    "            label += variant\n",
    "            label = \"  \" + label.strip()\n",
    "            plt.text(cases[i], deaths[i], label, fontsize=max(1.1*fontsize*(i/L)**font_scaling, 7), va=\"center\", \n",
    "                     color=colors[i], zorder=i, alpha=alphas[i])\n",
    "    #\n",
    "    # apply cosmetics\n",
    "    plt.xlabel(\"Biweekly cases per million\", fontsize=fontsize)\n",
    "    plt.ylabel(\"Biweekly deaths per million\", fontsize=fontsize)\n",
    "    plt.title(f\"{country} Deaths vs. Cases,\\n{first_date} to {last_date}\", fontsize=fontsize)\n",
    "    ax = plt.gca()\n",
    "    ax.spines['top'].set_visible(False)\n",
    "    ax.spines['right'].set_visible(False)\n",
    "    ax.spines['left'].set_linewidth(2)\n",
    "    ax.spines['bottom'].set_linewidth(2)\n",
    "    ax.tick_params(direction='out', length=10, width=2, labelsize=fontsize)\n",
    "    ax.get_xaxis().set_major_formatter(mpl.ticker.FuncFormatter(lambda x, p: format(int(x), ',')))    \n",
    "    if xmax:\n",
    "        xmin, current_xmax = ax.get_xlim()\n",
    "        if xmax >= current_xmax:\n",
    "            ax.set_xlim(xmin, xmax)\n",
    "    if save:\n",
    "        plt.tight_layout()\n",
    "        _ = plt.savefig(f\"Hi-res_country_plots/{country}_{dates[-1]}.{fmt}\", transparent=True, format=fmt)\n",
    "    if show:\n",
    "        plt.show()\n",
    "    \n",
    "    # optionally, also plot time series\n",
    "    if time_series:\n",
    "        # plot cases vs. time\n",
    "        plt.figure(figsize=(figsize[0],3))\n",
    "        for i in range(L-1):\n",
    "            plt.plot(dates[i:i+2], cases[i:i+2], c=colors[i], linewidth=widths[i], alpha=alphas[i])\n",
    "        if dots:\n",
    "            plt.scatter(peak_dates, cases[peaks], c=\"tab:orange\")\n",
    "            plt.scatter(trough_dates, cases[troughs], c=\"tab:red\")\n",
    "        ax = plt.gca()\n",
    "        ax.spines['top'].set_visible(False)\n",
    "        ax.spines['right'].set_visible(False)\n",
    "        ax.spines['left'].set_linewidth(2)\n",
    "        ax.spines['bottom'].set_linewidth(2)\n",
    "        ax.tick_params(direction='out', length=10, width=2, labelsize=fontsize)\n",
    "        plt.xticks(dates[::200])\n",
    "        plt.title(f\"{country}, Cases vs. Time,\\n{dates[0]} to {dates[-1]}\", fontsize=fontsize)\n",
    "        plt.ylabel(\"Cases\", fontsize=fontsize)\n",
    "        plt.show()\n",
    "        # plot deaths vs. time\n",
    "        plt.figure(figsize=(figsize[0],3))\n",
    "        for i in range(L-1):\n",
    "            plt.plot(dates[i:i+2], deaths[i:i+2], c=colors[i], linewidth=widths[i], alpha=alphas[i])\n",
    "        ax = plt.gca()\n",
    "        ax.spines['top'].set_visible(False)\n",
    "        ax.spines['right'].set_visible(False)\n",
    "        ax.spines['left'].set_linewidth(2)\n",
    "        ax.spines['bottom'].set_linewidth(2)\n",
    "        ax.tick_params(direction='out', length=10, width=2, labelsize=fontsize)\n",
    "        plt.xticks(dates[::200])\n",
    "        plt.title(f\"{country}, Deaths vs. Time,\\n{dates[0]} to {dates[-1]}\", fontsize=fontsize)\n",
    "        if death_max:\n",
    "            plt.ylim([0, death_max])\n",
    "        plt.ylabel(\"Deaths\", fontsize=fontsize)\n",
    "        if show: plt.show()        \n",
    "    \n",
    "    return"
   ]
  },
  {
   "cell_type": "markdown",
   "id": "dda6292e",
   "metadata": {},
   "source": [
    "Let's look at some examples. \n",
    "\n",
    "In all the plots:\n",
    "\n",
    "- the most recent wave is red, \n",
    "- the previous wave is green, \n",
    "- the one before that is blue, \n",
    "- the one before that is purple, and\n",
    "- any wave prior to that is gray.\n",
    "\n",
    "The line thickens and darkens as it approaches the present day, and the label font gets bigger.\n",
    "\n",
    "Note the differences in scale from plot to plot.\n",
    "\n",
    "<a id='country_plots'></a>"
   ]
  },
  {
   "cell_type": "markdown",
   "id": "c0495327",
   "metadata": {},
   "source": [
    "# Africa and the Middle East"
   ]
  },
  {
   "cell_type": "markdown",
   "id": "1083eeb5",
   "metadata": {},
   "source": [
    "## South Africa\n",
    "\n",
    "South Africa had one of the earliest omicron waves."
   ]
  },
  {
   "cell_type": "code",
   "execution_count": null,
   "id": "b789ac49",
   "metadata": {
    "execution": {
     "iopub.execute_input": "2022-03-07T13:02:41.496584Z",
     "iopub.status.busy": "2022-03-07T13:02:41.494456Z",
     "iopub.status.idle": "2022-03-07T13:02:47.457421Z",
     "shell.execute_reply": "2022-03-07T13:02:47.457969Z"
    },
    "scrolled": false
   },
   "outputs": [],
   "source": [
    "plot_deaths_vs_cases(\"South Africa\", variants=[\"\", \" beta\", \" delta\", \" omicron\"], figsize=(9,6), xmax=12000, last=21)"
   ]
  },
  {
   "cell_type": "markdown",
   "id": "d4c64d6a",
   "metadata": {},
   "source": [
    "A black dot marks each day of the past 2-3 weeks.\n",
    "\n",
    "Note the counterclockwise loops. Cases rise, then deaths rise, then cases fall, and finally deaths fall.\n",
    "\n",
    "Original (purple), beta (blue), delta (green), and omicron (red) waves are clearly visible. Two mid-summer peaks, two mid-winter peaks.\n",
    "\n",
    "The shape and area of each loop indicate the lag time between getting sick and dying, and also the deadliness of each wave.\n",
    "\n",
    "220-01-14: Has uptick resolved?\n",
    "\n",
    "22-01-13: The uptick at the end of what was earlier described as the resolution of the omicron wave bears watching."
   ]
  },
  {
   "cell_type": "markdown",
   "id": "747eaf76",
   "metadata": {},
   "source": [
    "## Israel"
   ]
  },
  {
   "cell_type": "code",
   "execution_count": null,
   "id": "7531946b",
   "metadata": {
    "execution": {
     "iopub.execute_input": "2022-03-07T13:02:47.465690Z",
     "iopub.status.busy": "2022-03-07T13:02:47.464780Z",
     "iopub.status.idle": "2022-03-07T13:02:53.423535Z",
     "shell.execute_reply": "2022-03-07T13:02:53.424130Z"
    }
   },
   "outputs": [],
   "source": [
    "plot_deaths_vs_cases(\"Israel\", variants=[\"\", \" alpha\", \" delta\", \"omicron\"], figsize=(9,6), xmax=40000, ignore_last=11)"
   ]
  },
  {
   "cell_type": "markdown",
   "id": "97ca89a6",
   "metadata": {},
   "source": [
    "22-02-03: High deaths, following the delay, for the latest loop. Contrast to South Africa\n",
    "\n",
    "22-01-30: First omicron wave appears to be peaking. Low deaths per case (flat loop), but high absolute number of deaths.\n",
    "\n",
    "22-01-13: Omicron deaths are quite low. As with South Africa, note the flattening of subsequent waves, indicating progressive fall in case mortality. The space between the last few dots shows the pace of omicron."
   ]
  },
  {
   "cell_type": "markdown",
   "id": "9734372e",
   "metadata": {},
   "source": [
    "## Tunisia"
   ]
  },
  {
   "cell_type": "code",
   "execution_count": null,
   "id": "5f709455",
   "metadata": {
    "execution": {
     "iopub.execute_input": "2022-03-07T13:02:53.431698Z",
     "iopub.status.busy": "2022-03-07T13:02:53.430885Z",
     "iopub.status.idle": "2022-03-07T13:02:59.267632Z",
     "shell.execute_reply": "2022-03-07T13:02:59.268438Z"
    }
   },
   "outputs": [],
   "source": [
    "plot_deaths_vs_cases(\"Tunisia\", variants=[\"\", \"\", \" delta\", \"omicron\"], figsize=(9,6), xmax=20000, ignore_last=11)"
   ]
  },
  {
   "cell_type": "markdown",
   "id": "eee3d9be",
   "metadata": {},
   "source": [
    "22-01-13: Omicron not yet reported per <a href=\"https://covariants.org/per-country\">CoVariants.org</a> but seems likely."
   ]
  },
  {
   "cell_type": "markdown",
   "id": "8c004170",
   "metadata": {},
   "source": [
    "## Iran"
   ]
  },
  {
   "cell_type": "code",
   "execution_count": null,
   "id": "29661176",
   "metadata": {
    "execution": {
     "iopub.execute_input": "2022-03-07T13:02:59.274417Z",
     "iopub.status.busy": "2022-03-07T13:02:59.273708Z",
     "iopub.status.idle": "2022-03-07T13:03:05.578384Z",
     "shell.execute_reply": "2022-03-07T13:03:05.579171Z"
    }
   },
   "outputs": [],
   "source": [
    "plot_deaths_vs_cases(\"Iran\", variants=[], figsize=(9,6), xmax=8000)"
   ]
  },
  {
   "cell_type": "markdown",
   "id": "b66845a9",
   "metadata": {},
   "source": [
    "22-01-13: The 20-12-04 loop did not close; suspect reporting artifact (e.g. underreporting of cases as this wve started). Omicron was reported in Iran in December 2021."
   ]
  },
  {
   "cell_type": "markdown",
   "id": "8664f267",
   "metadata": {},
   "source": [
    "# The Americas"
   ]
  },
  {
   "cell_type": "markdown",
   "id": "2321a340",
   "metadata": {},
   "source": [
    "## United States\n",
    "\n",
    "Testing (and therefore the number of cases) has remained difficult to get and deaths have remained stubbornly high in the United States."
   ]
  },
  {
   "cell_type": "code",
   "execution_count": null,
   "id": "5dd2309b",
   "metadata": {
    "execution": {
     "iopub.execute_input": "2022-03-07T13:03:05.586104Z",
     "iopub.status.busy": "2022-03-07T13:03:05.585324Z",
     "iopub.status.idle": "2022-03-07T13:03:13.692380Z",
     "shell.execute_reply": "2022-03-07T13:03:13.693023Z"
    }
   },
   "outputs": [],
   "source": [
    "plot_deaths_vs_cases(\"United States\", variants=[\"\", \"\", \"\", \" alpha\", \" delta\", \"omicron\"], figsize=(9,6), last=21)#, time_series=True)"
   ]
  },
  {
   "cell_type": "markdown",
   "id": "d856bd90",
   "metadata": {},
   "source": [
    "22-01-13: The omicron wave has begun quite differently from previous waves. Hopefully it resolves as South Africa's has so far."
   ]
  },
  {
   "cell_type": "markdown",
   "id": "df967730",
   "metadata": {},
   "source": [
    "## Canada"
   ]
  },
  {
   "cell_type": "code",
   "execution_count": null,
   "id": "013338e0",
   "metadata": {
    "execution": {
     "iopub.execute_input": "2022-03-07T13:03:13.700835Z",
     "iopub.status.busy": "2022-03-07T13:03:13.700027Z",
     "iopub.status.idle": "2022-03-07T13:03:20.997084Z",
     "shell.execute_reply": "2022-03-07T13:03:20.997851Z"
    }
   },
   "outputs": [],
   "source": [
    "plot_deaths_vs_cases(\"Canada\", variants=[\"\", \"\", \"\", \" alpha\", \" delta\", \" omicron\"], figsize=(9,6), last=21, rel_height=1.5)#, time_series=True)"
   ]
  },
  {
   "cell_type": "markdown",
   "id": "bdc3b50b",
   "metadata": {},
   "source": [
    "220-01-30: Quite a rise in death rate.\n",
    "\n",
    "220-01-15: Quebec is asking non-priority groups to take rapid tests instead of PCR tests. Rapid tests are less sensitive. Does that account for the sharp but temporary fall in casess around 22-01-11?\n",
    "\n",
    "220-01-14: Will uptick resolve as seems to be the case with South Africa? Could reflect delay between *delta* hospitalizations and deaths?\n",
    "\n",
    "22-01-13: Similar dynamics to its neighbor to the south, but fewer cases and deaths per million. Has omicron peaked? I would have imagined a tighter clustering of dots at the peak, but it's possible."
   ]
  },
  {
   "cell_type": "markdown",
   "id": "f356e13d",
   "metadata": {},
   "source": [
    "## Mexico"
   ]
  },
  {
   "cell_type": "code",
   "execution_count": null,
   "id": "4a4954c1",
   "metadata": {
    "execution": {
     "iopub.execute_input": "2022-03-07T13:03:21.006429Z",
     "iopub.status.busy": "2022-03-07T13:03:21.005655Z",
     "iopub.status.idle": "2022-03-07T13:03:27.491062Z",
     "shell.execute_reply": "2022-03-07T13:03:27.491682Z"
    }
   },
   "outputs": [],
   "source": [
    "plot_deaths_vs_cases(\"Mexico\", variants=[\"\", \"\", \"20B*\", \"delta\", \"omicron\"], figsize=(9,6))#, time_series=True)"
   ]
  },
  {
   "cell_type": "markdown",
   "id": "72b6fcc7",
   "metadata": {},
   "source": [
    "220-01-30: First omicron wave appears to be peaking.\n",
    "\n",
    "22-01-13: \\*20B was 0.47. Progressive flattening of the loops is reminiscent of South Africa/Israel."
   ]
  },
  {
   "cell_type": "markdown",
   "id": "5a7efb0c",
   "metadata": {},
   "source": [
    "## Cuba"
   ]
  },
  {
   "cell_type": "code",
   "execution_count": null,
   "id": "e57c3ea8",
   "metadata": {
    "execution": {
     "iopub.execute_input": "2022-03-07T13:03:27.498764Z",
     "iopub.status.busy": "2022-03-07T13:03:27.497970Z",
     "iopub.status.idle": "2022-03-07T13:03:34.050833Z",
     "shell.execute_reply": "2022-03-07T13:03:34.051454Z"
    }
   },
   "outputs": [],
   "source": [
    "plot_deaths_vs_cases(\"Cuba\", figsize=(9,6), ignore_last=12)#, time_series=True)"
   ]
  },
  {
   "cell_type": "markdown",
   "id": "4b545b7b",
   "metadata": {},
   "source": [
    "220-01-30: Wave appears to be peaking. >90% fully vaccinated. No variant data at Covariants.\n",
    "\n",
    "22-01-13: <a href=\"https://ourworldindata.org/covid-vaccinations\">86% fully vaccinated</a> as of January 11, 2022."
   ]
  },
  {
   "cell_type": "markdown",
   "id": "86c2a284",
   "metadata": {},
   "source": [
    "## Brazil"
   ]
  },
  {
   "cell_type": "code",
   "execution_count": null,
   "id": "5ab81bb4",
   "metadata": {
    "execution": {
     "iopub.execute_input": "2022-03-07T13:03:34.057949Z",
     "iopub.status.busy": "2022-03-07T13:03:34.057150Z",
     "iopub.status.idle": "2022-03-07T13:03:39.922153Z",
     "shell.execute_reply": "2022-03-07T13:03:39.922673Z"
    }
   },
   "outputs": [],
   "source": [
    "plot_deaths_vs_cases(\"Brazil\", variants=[\"\", \"\", \"\", \" gamma\", \" omicron\"], figsize=(9,6))#, time_series=True)"
   ]
  },
  {
   "cell_type": "markdown",
   "id": "2567d928",
   "metadata": {},
   "source": [
    "22-01-13: Gamma predominated in March 2021."
   ]
  },
  {
   "cell_type": "markdown",
   "id": "82eb34c8",
   "metadata": {},
   "source": [
    "# Europe"
   ]
  },
  {
   "cell_type": "markdown",
   "id": "51018607",
   "metadata": {},
   "source": [
    "## Italy"
   ]
  },
  {
   "cell_type": "code",
   "execution_count": null,
   "id": "8a2c55f9",
   "metadata": {
    "execution": {
     "iopub.execute_input": "2022-03-07T13:03:39.931482Z",
     "iopub.status.busy": "2022-03-07T13:03:39.930427Z",
     "iopub.status.idle": "2022-03-07T13:03:46.371503Z",
     "shell.execute_reply": "2022-03-07T13:03:46.372061Z"
    }
   },
   "outputs": [],
   "source": [
    "plot_deaths_vs_cases(\"Italy\", variants=[\"\", \" EU-1\", \" alpha\", \" delta\", \"omicron\"], figsize=(9,6))"
   ]
  },
  {
   "cell_type": "markdown",
   "id": "d43be8d0",
   "metadata": {},
   "source": [
    "22-01-13: Famously hard-hit in the first wave. Note the April 2021 resurgence before the December 2020 peak had fully resolved, and how differently omicron has begun."
   ]
  },
  {
   "cell_type": "markdown",
   "id": "643b6a3b",
   "metadata": {},
   "source": [
    "## France"
   ]
  },
  {
   "cell_type": "code",
   "execution_count": null,
   "id": "5d3b9fd5",
   "metadata": {
    "execution": {
     "iopub.execute_input": "2022-03-07T13:03:46.379262Z",
     "iopub.status.busy": "2022-03-07T13:03:46.378374Z",
     "iopub.status.idle": "2022-03-07T13:03:51.153374Z",
     "shell.execute_reply": "2022-03-07T13:03:51.153993Z"
    }
   },
   "outputs": [],
   "source": [
    "plot_deaths_vs_cases(\"France\", variants=[\" alpha\", \" delta\", \"omicron\"], figsize=(9,6), xmax=100000) #, time_series=True, dots=True, death_max=300)"
   ]
  },
  {
   "cell_type": "markdown",
   "id": "1c7fcbf7",
   "metadata": {},
   "source": [
    "22-01-13: Similar to Italy."
   ]
  },
  {
   "cell_type": "markdown",
   "id": "e9e2f074",
   "metadata": {},
   "source": [
    "## Denmark"
   ]
  },
  {
   "cell_type": "code",
   "execution_count": null,
   "id": "a29cf396",
   "metadata": {
    "execution": {
     "iopub.execute_input": "2022-03-07T13:03:51.160763Z",
     "iopub.status.busy": "2022-03-07T13:03:51.159371Z",
     "iopub.status.idle": "2022-03-07T13:03:57.134984Z",
     "shell.execute_reply": "2022-03-07T13:03:57.135566Z"
    }
   },
   "outputs": [],
   "source": [
    "plot_deaths_vs_cases(\"Denmark\", variants=[\"\", \" EU-1\", \"alpha\", \" delta\", \"omicron\"], figsize=(9,6), ignore_last=10, dots=False, death_max=100)"
   ]
  },
  {
   "cell_type": "markdown",
   "id": "6bb572a8",
   "metadata": {},
   "source": [
    "22-01-13: A lot of virus sequencing in Denmark. A relatively quiet pandemic until omicron. The inflection point as the curve goes from orange to red marked the transition from delta to omicron (not labeled here)."
   ]
  },
  {
   "cell_type": "markdown",
   "id": "57aba1f4",
   "metadata": {},
   "source": [
    "## United Kingdom"
   ]
  },
  {
   "cell_type": "code",
   "execution_count": null,
   "id": "97f34b7e",
   "metadata": {
    "execution": {
     "iopub.execute_input": "2022-03-07T13:03:57.141936Z",
     "iopub.status.busy": "2022-03-07T13:03:57.141154Z",
     "iopub.status.idle": "2022-03-07T13:04:03.209364Z",
     "shell.execute_reply": "2022-03-07T13:04:03.209911Z"
    }
   },
   "outputs": [],
   "source": [
    "plot_deaths_vs_cases(\"United Kingdom\", variants=[\"\", \" EU-1\", \" alpha\", \"\", \"delta\", \" delta\", \"omicron\"], figsize=(9,6), rel_height=0.6)#, time_series=True)"
   ]
  },
  {
   "cell_type": "markdown",
   "id": "7ba8aec7",
   "metadata": {},
   "source": [
    "22-01-13: A relatively mild delta wave. The density of the black dots around 22-01-12 is notable. Is the UK's omicron wave peaking?"
   ]
  },
  {
   "cell_type": "markdown",
   "id": "de06e061",
   "metadata": {},
   "source": [
    "## Ireland"
   ]
  },
  {
   "cell_type": "code",
   "execution_count": null,
   "id": "c5b8a76c",
   "metadata": {
    "execution": {
     "iopub.execute_input": "2022-03-07T13:04:03.216306Z",
     "iopub.status.busy": "2022-03-07T13:04:03.215533Z",
     "iopub.status.idle": "2022-03-07T13:04:08.050684Z",
     "shell.execute_reply": "2022-03-07T13:04:08.051518Z"
    }
   },
   "outputs": [],
   "source": [
    "plot_deaths_vs_cases(\"Ireland\", variants=[\"\", \" EU-1\", \" alpha\", \"delta\", \" delta\", \"omicron\"], figsize=(9,6))#, time_series=True)"
   ]
  },
  {
   "cell_type": "markdown",
   "id": "4cb998fc",
   "metadata": {},
   "source": [
    "22-01-13: Same question: is omicron peaking?"
   ]
  },
  {
   "cell_type": "markdown",
   "id": "35a27a46",
   "metadata": {},
   "source": [
    "## Sweden"
   ]
  },
  {
   "cell_type": "code",
   "execution_count": null,
   "id": "11aa677d",
   "metadata": {
    "execution": {
     "iopub.execute_input": "2022-03-07T13:04:08.059787Z",
     "iopub.status.busy": "2022-03-07T13:04:08.059017Z",
     "iopub.status.idle": "2022-03-07T13:04:13.395176Z",
     "shell.execute_reply": "2022-03-07T13:04:13.395869Z"
    },
    "scrolled": false
   },
   "outputs": [],
   "source": [
    "plot_deaths_vs_cases(\"Sweden\", variants=[\"\", \" EU-1\", \" alpha\", \"delta\", \"omicron\"], figsize=(9,6), xmax=25000)#, time_series=True)"
   ]
  },
  {
   "cell_type": "markdown",
   "id": "366c4b00",
   "metadata": {},
   "source": [
    "22-01-13: Famously an outlier in its early approach. The spikiness suggests to me a data-reporting issue. A spike in April 2021. Omicron spreading rapidly with much less of an increase in death rate relative to a year before."
   ]
  },
  {
   "cell_type": "markdown",
   "id": "8b761b07",
   "metadata": {},
   "source": [
    "## Germany"
   ]
  },
  {
   "cell_type": "code",
   "execution_count": null,
   "id": "71e90597",
   "metadata": {
    "execution": {
     "iopub.execute_input": "2022-03-07T13:04:13.402418Z",
     "iopub.status.busy": "2022-03-07T13:04:13.401640Z",
     "iopub.status.idle": "2022-03-07T13:04:18.824624Z",
     "shell.execute_reply": "2022-03-07T13:04:18.825395Z"
    }
   },
   "outputs": [],
   "source": [
    "plot_deaths_vs_cases(\"Germany\", variants=[\" EU-1\", \"alpha\", \" delta\", \" delta\", \" omicron\"], figsize=(9,6))#, time_series=True)"
   ]
  },
  {
   "cell_type": "markdown",
   "id": "a33f773d",
   "metadata": {},
   "source": [
    "22-01-13: The second-most populous European country. Fewer loops, but again a dramatic difference in loop orientation, illustrating much different effect. Omicron only recently reported. Expect it to follow the Netherlands' trajectory."
   ]
  },
  {
   "cell_type": "markdown",
   "id": "f8aa89ce",
   "metadata": {},
   "source": [
    "## Netherlands"
   ]
  },
  {
   "cell_type": "code",
   "execution_count": null,
   "id": "16d048c1",
   "metadata": {
    "execution": {
     "iopub.execute_input": "2022-03-07T13:04:18.833412Z",
     "iopub.status.busy": "2022-03-07T13:04:18.832597Z",
     "iopub.status.idle": "2022-03-07T13:04:25.664227Z",
     "shell.execute_reply": "2022-03-07T13:04:25.665049Z"
    }
   },
   "outputs": [],
   "source": [
    "plot_deaths_vs_cases(\"Netherlands\", variants=[\"\", \"EU-1\", \"\", \" alpha\", \" delta\", \" delta\", \" delta\", \"omicron\"], figsize=(9,6), ignore_last=10)#, time_series=True)"
   ]
  },
  {
   "cell_type": "markdown",
   "id": "d751ce4e",
   "metadata": {},
   "source": [
    "22-01-13: Good reporting. Dynamics similar to Germany's. Multiple delta waves. Death rate falling as omicron spreads."
   ]
  },
  {
   "cell_type": "markdown",
   "id": "00c3527f",
   "metadata": {},
   "source": [
    "## Finland"
   ]
  },
  {
   "cell_type": "code",
   "execution_count": null,
   "id": "50d5fc09",
   "metadata": {
    "execution": {
     "iopub.execute_input": "2022-03-07T13:04:25.672540Z",
     "iopub.status.busy": "2022-03-07T13:04:25.671778Z",
     "iopub.status.idle": "2022-03-07T13:04:31.674448Z",
     "shell.execute_reply": "2022-03-07T13:04:31.675119Z"
    },
    "scrolled": false
   },
   "outputs": [],
   "source": [
    "plot_deaths_vs_cases(\"Finland\", variants=[\"\", \"\", \" alpha\", \" delta\", \"omicron\"], figsize=(9,6))#, time_series=True, dots=False, ignore_last=10)"
   ]
  },
  {
   "cell_type": "markdown",
   "id": "332da258",
   "metadata": {},
   "source": [
    "220-01-30: Clockwise loop continues. Another peak to come?\n",
    "\n",
    "22-01-26: A *clockwise* omicron loop: more deaths earlier. Leftovers from delta?\n",
    "\n",
    "22-01-13: Omicron is the deadliest wave yet."
   ]
  },
  {
   "cell_type": "markdown",
   "id": "e2c6ba76",
   "metadata": {},
   "source": [
    "## Russia"
   ]
  },
  {
   "cell_type": "code",
   "execution_count": null,
   "id": "1afcd531",
   "metadata": {
    "execution": {
     "iopub.execute_input": "2022-03-07T13:04:31.682884Z",
     "iopub.status.busy": "2022-03-07T13:04:31.681349Z",
     "iopub.status.idle": "2022-03-07T13:04:37.999803Z",
     "shell.execute_reply": "2022-03-07T13:04:38.000420Z"
    }
   },
   "outputs": [],
   "source": [
    "plot_deaths_vs_cases(\"Russia\", variants=[\"\", \"\", \"\", \" delta\", \" omicron\"], figsize=(9,6), ignore_last=10)#, time_series=True)"
   ]
  },
  {
   "cell_type": "markdown",
   "id": "259804d7",
   "metadata": {},
   "source": [
    "22-01-13: Unusual: per this reporting, each wave worse than the last."
   ]
  },
  {
   "cell_type": "markdown",
   "id": "59073bdd",
   "metadata": {},
   "source": [
    "# Far East"
   ]
  },
  {
   "cell_type": "markdown",
   "id": "f35f133e",
   "metadata": {},
   "source": [
    "## Japan"
   ]
  },
  {
   "cell_type": "code",
   "execution_count": null,
   "id": "25886b6c",
   "metadata": {
    "execution": {
     "iopub.execute_input": "2022-03-07T13:04:38.007347Z",
     "iopub.status.busy": "2022-03-07T13:04:38.005983Z",
     "iopub.status.idle": "2022-03-07T13:04:44.430590Z",
     "shell.execute_reply": "2022-03-07T13:04:44.431471Z"
    }
   },
   "outputs": [],
   "source": [
    "plot_deaths_vs_cases(\"Japan\", variants=[\"\", \"\", \"\", \" alpha\", \" delta\", \" omicron\"], figsize=(9,6), ignore_last=8)#, time_series=True)"
   ]
  },
  {
   "cell_type": "markdown",
   "id": "afee3ff1",
   "metadata": {},
   "source": [
    "22-01-13: The August 2021 peak saw many more cases but many fewer deaths than the two previous ones. What changed for Japan between May and August? The omicron wave has just begun."
   ]
  },
  {
   "cell_type": "markdown",
   "id": "3e86642f",
   "metadata": {},
   "source": [
    "## South Korea"
   ]
  },
  {
   "cell_type": "code",
   "execution_count": null,
   "id": "9f687b30",
   "metadata": {
    "execution": {
     "iopub.execute_input": "2022-03-07T13:04:44.441197Z",
     "iopub.status.busy": "2022-03-07T13:04:44.439754Z",
     "iopub.status.idle": "2022-03-07T13:04:51.199471Z",
     "shell.execute_reply": "2022-03-07T13:04:51.200836Z"
    }
   },
   "outputs": [],
   "source": [
    "plot_deaths_vs_cases(\"South Korea\", variants=[\"\", \" beta\", \" delta 21I\", \" delta 21J\", \"omicron\"], figsize=(9,6))#, time_series=True)"
   ]
  },
  {
   "cell_type": "markdown",
   "id": "dc5dd46c",
   "metadata": {},
   "source": [
    "22-01-13: Quite a different trajectory to its neighbors, but this is still delta. South Korea may well follow the Netherlands and Germany. The stasis around 21-01-12 suggests a new wave is about to start."
   ]
  },
  {
   "cell_type": "markdown",
   "id": "4f15f7c0",
   "metadata": {},
   "source": [
    "## China"
   ]
  },
  {
   "cell_type": "code",
   "execution_count": null,
   "id": "78107dbf",
   "metadata": {
    "execution": {
     "iopub.execute_input": "2022-03-07T13:04:51.208500Z",
     "iopub.status.busy": "2022-03-07T13:04:51.207698Z",
     "iopub.status.idle": "2022-03-07T13:04:57.476948Z",
     "shell.execute_reply": "2022-03-07T13:04:57.477740Z"
    }
   },
   "outputs": [],
   "source": [
    "plot_deaths_vs_cases(\"China\", variants=[\"omicron\"], figsize=(9,6), xmax=40)"
   ]
  },
  {
   "cell_type": "markdown",
   "id": "90bda6d6",
   "metadata": {},
   "source": [
    "22-01-13: A zero-COVID policy. Not much reported. Note the axis units."
   ]
  },
  {
   "cell_type": "markdown",
   "id": "e5beef33",
   "metadata": {},
   "source": [
    "# South Asia"
   ]
  },
  {
   "cell_type": "markdown",
   "id": "da995728",
   "metadata": {},
   "source": [
    "## India"
   ]
  },
  {
   "cell_type": "code",
   "execution_count": null,
   "id": "1abfc5fe",
   "metadata": {
    "execution": {
     "iopub.execute_input": "2022-03-07T13:04:57.486031Z",
     "iopub.status.busy": "2022-03-07T13:04:57.485212Z",
     "iopub.status.idle": "2022-03-07T13:05:03.509934Z",
     "shell.execute_reply": "2022-03-07T13:05:03.510673Z"
    }
   },
   "outputs": [],
   "source": [
    "plot_deaths_vs_cases(\"India\", variants=[\"\", \" delta\", \" omicron\"], figsize=(9,6))#, time_series=True)"
   ]
  },
  {
   "cell_type": "markdown",
   "id": "b96db7df",
   "metadata": {},
   "source": [
    "The second-most populous country."
   ]
  },
  {
   "cell_type": "markdown",
   "id": "f1b5f652",
   "metadata": {},
   "source": [
    "## Pakistan"
   ]
  },
  {
   "cell_type": "code",
   "execution_count": null,
   "id": "663ffdb2",
   "metadata": {
    "execution": {
     "iopub.execute_input": "2022-03-07T13:05:03.519471Z",
     "iopub.status.busy": "2022-03-07T13:05:03.518640Z",
     "iopub.status.idle": "2022-03-07T13:05:09.741549Z",
     "shell.execute_reply": "2022-03-07T13:05:09.742185Z"
    }
   },
   "outputs": [],
   "source": [
    "plot_deaths_vs_cases(\"Pakistan\", variants=[\"\", \"\", \" alpha\", \" delta\", \" omicron\"], figsize=(9,6))#, time_series=True)"
   ]
  },
  {
   "cell_type": "markdown",
   "id": "2e7e8e76",
   "metadata": {},
   "source": [
    "22-01-13: Less flattening than in other countries with low vaccination rates, but lower peak death rate from delta, as seen elsewhere."
   ]
  },
  {
   "cell_type": "markdown",
   "id": "788d5f02",
   "metadata": {},
   "source": [
    "# ANZAC"
   ]
  },
  {
   "cell_type": "markdown",
   "id": "b6897ca8",
   "metadata": {},
   "source": [
    "## Australia"
   ]
  },
  {
   "cell_type": "code",
   "execution_count": null,
   "id": "227090c4",
   "metadata": {
    "execution": {
     "iopub.execute_input": "2022-03-07T13:05:09.750176Z",
     "iopub.status.busy": "2022-03-07T13:05:09.748019Z",
     "iopub.status.idle": "2022-03-07T13:05:17.432431Z",
     "shell.execute_reply": "2022-03-07T13:05:17.432997Z"
    }
   },
   "outputs": [],
   "source": [
    "plot_deaths_vs_cases(\"Australia\", variants=[\"\", \"\", \" delta\", \"omicron\"], figsize=(9,6), last=30)#, time_series=True)"
   ]
  },
  {
   "cell_type": "markdown",
   "id": "67e8a42b",
   "metadata": {},
   "source": [
    "220-01-30: Quite a rise in death rate.\n",
    "\n",
    "22-01-13: Another country with tight controls for most of the pandemic. In January 2021 Australia decided omicron was uncontainable. The space between the dots indicates the very rapid spread of omicron."
   ]
  },
  {
   "cell_type": "markdown",
   "id": "26d41a3e",
   "metadata": {},
   "source": [
    "## New Zealand"
   ]
  },
  {
   "cell_type": "code",
   "execution_count": null,
   "id": "2de5bcb7",
   "metadata": {
    "execution": {
     "iopub.execute_input": "2022-03-07T13:05:17.440476Z",
     "iopub.status.busy": "2022-03-07T13:05:17.439658Z",
     "iopub.status.idle": "2022-03-07T13:05:22.889515Z",
     "shell.execute_reply": "2022-03-07T13:05:22.890135Z"
    }
   },
   "outputs": [],
   "source": [
    "plot_deaths_vs_cases(\"New Zealand\", variants=[\" delta\", \" omicron\"], figsize=(9, 6))#, time_series=True)"
   ]
  },
  {
   "cell_type": "markdown",
   "id": "b2bdedbb",
   "metadata": {},
   "source": [
    "Small, distant, tight controls, unified populace, distinctive trajectories."
   ]
  },
  {
   "cell_type": "markdown",
   "id": "851ca04c",
   "metadata": {},
   "source": [
    "# World"
   ]
  },
  {
   "cell_type": "code",
   "execution_count": null,
   "id": "5b2caec0",
   "metadata": {
    "execution": {
     "iopub.execute_input": "2022-03-07T13:05:22.897393Z",
     "iopub.status.busy": "2022-03-07T13:05:22.895746Z",
     "iopub.status.idle": "2022-03-07T13:05:29.626411Z",
     "shell.execute_reply": "2022-03-07T13:05:29.627231Z"
    },
    "scrolled": false
   },
   "outputs": [],
   "source": [
    "plot_deaths_vs_cases(\"World\", variants=[\"\", \"\", \"\", \"omicron\"], save=True, figsize=(9,6))#, time_series=True)"
   ]
  },
  {
   "cell_type": "markdown",
   "id": "2cb356f3",
   "metadata": {},
   "source": [
    "220-01-30: This first omicron wave is peaking around the world."
   ]
  }
 ],
 "metadata": {
  "kernelspec": {
   "display_name": "Python 3 (ipykernel)",
   "language": "python",
   "name": "python3"
  },
  "language_info": {
   "codemirror_mode": {
    "name": "ipython",
    "version": 3
   },
   "file_extension": ".py",
   "mimetype": "text/x-python",
   "name": "python",
   "nbconvert_exporter": "python",
   "pygments_lexer": "ipython3",
   "version": "3.9.2"
  }
 },
 "nbformat": 4,
 "nbformat_minor": 5
}
